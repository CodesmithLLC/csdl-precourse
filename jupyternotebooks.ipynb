{
 "cells": [
  {
   "cell_type": "markdown",
   "metadata": {
    "toc": true
   },
   "source": [
    "<h1>Table of Contents<span class=\"tocSkip\"></span></h1>\n",
    "<div class=\"toc\"><ul class=\"toc-item\"><li><span><a href=\"#Jupyter-Notebooks\" data-toc-modified-id=\"Jupyter-Notebooks-1\"><span class=\"toc-item-num\">1&nbsp;&nbsp;</span>Jupyter Notebooks</a></span></li><li><span><a href=\"#Command-Mode-and-Edit-Mode\" data-toc-modified-id=\"Command-Mode-and-Edit-Mode-2\"><span class=\"toc-item-num\">2&nbsp;&nbsp;</span>Command Mode and Edit Mode</a></span></li><li><span><a href=\"#Adding-and-deleting-cells\" data-toc-modified-id=\"Adding-and-deleting-cells-3\"><span class=\"toc-item-num\">3&nbsp;&nbsp;</span>Adding and deleting cells</a></span></li><li><span><a href=\"#Code-cells\" data-toc-modified-id=\"Code-cells-4\"><span class=\"toc-item-num\">4&nbsp;&nbsp;</span>Code cells</a></span></li><li><span><a href=\"#Markdown-Cells\" data-toc-modified-id=\"Markdown-Cells-5\"><span class=\"toc-item-num\">5&nbsp;&nbsp;</span>Markdown Cells</a></span></li><li><span><a href=\"#Jupyter-Resources\" data-toc-modified-id=\"Jupyter-Resources-6\"><span class=\"toc-item-num\">6&nbsp;&nbsp;</span>Jupyter Resources</a></span></li></ul></div>"
   ]
  },
  {
   "cell_type": "markdown",
   "metadata": {},
   "source": [
    "# Jupyter Notebooks"
   ]
  },
  {
   "cell_type": "markdown",
   "metadata": {},
   "source": [
    "A jupyter notebook is a collection of code, usually written in python, and notes that explain the code, usually written in markdown or html. Jupyter notebooks allow machine learning engineers and data scientists to document their experiments in a style and format similar to scientific notebooks. Well-written machine learning notebooks document the procedures and methods used in an experiment thoroughly enough to make the experiment *reproducible*. That way, verifying someones experimental claims can be as simple as obtaining a copy of their notebook, reading through it, and running it for yourself.\n",
    "\n",
    "Jupyter notebooks are also extremely useful as an educational tool because it's easy to intersperse notes and images with code. We'll be using notebooks throughout this course, so feeling comfortable navigating through jupyter's interface will make your life much more enjoyable. Let's take a brief tour of the UI..."
   ]
  },
  {
   "cell_type": "markdown",
   "metadata": {},
   "source": [
    "# Command Mode and Edit Mode"
   ]
  },
  {
   "cell_type": "markdown",
   "metadata": {},
   "source": [
    "A jupyter notebook is composed of individual cells. Every cell can be viewed in two different modes: edit mode and command mode. Identify which cell you are focused on right now (*it will be outlined in blue or green*). The color of the outline indicates which mode you are in. Blue indicates command mode and green indicates edit mode."
   ]
  },
  {
   "cell_type": "markdown",
   "metadata": {},
   "source": [
    "**A cell in command mode:**\n",
    "![](images/command-mode.png)\n",
    "\n",
    "**A cell in edit mode:**\n",
    "![](images/edit-mode.png)"
   ]
  },
  {
   "cell_type": "markdown",
   "metadata": {},
   "source": [
    "1. While in command mode (you will start in command mode by default) use your up and down arrow keys to move between cells. Use your down arrow to highlight this cell.\n",
    "1. Hit `enter` to switch to edit mode. Now you are able to edit the content of this cell!\n",
    "1. Hit `escape` to toggle back to command mode.\n",
    "1. Despite switching back to command mode, the cell hasn't been re-rendered to display as html. To run the cell, hit `shift` and `enter` simultaneously."
   ]
  },
  {
   "cell_type": "markdown",
   "metadata": {},
   "source": [
    "# Adding and deleting cells"
   ]
  },
  {
   "cell_type": "markdown",
   "metadata": {},
   "source": [
    "1. Highlight this cell in command mode.\n",
    "1. Hit `a` to add an empty cell above the current cell.\n",
    "1. Hit `b` to add an empty cell below the current cell.\n",
    "1. Hit `d` twice repeatedly to delete the highlighted cell."
   ]
  },
  {
   "cell_type": "markdown",
   "metadata": {},
   "source": [
    "# Code cells"
   ]
  },
  {
   "cell_type": "markdown",
   "metadata": {},
   "source": [
    "You can run code cells with the same command we used to run a markdown cell earlier:\n",
    "\n",
    "1. Use your arrow keys to highlight the code cell below.\n",
    "1. While in command mode, hit `shift` and `enter` at the same time."
   ]
  },
  {
   "cell_type": "code",
   "execution_count": null,
   "metadata": {},
   "outputs": [],
   "source": [
    "print('This will appear directly below the code cell when it is run.')"
   ]
  },
  {
   "cell_type": "markdown",
   "metadata": {},
   "source": [
    "There is an interactive python kernel running in the background, which is responsible for managing the variable environment and executing code cells. If you encounter errors, or loose track of what a variable refers to, you may want to restart the kernel. You can do this from the `kernel` tab in the GUI above.\n",
    "\n",
    "Note, for example, the three code cells below. If you run cell A, then cell B, then cell C, you will see the number `2` printed below. "
   ]
  },
  {
   "cell_type": "code",
   "execution_count": null,
   "metadata": {},
   "outputs": [],
   "source": [
    "# cell A\n",
    "num = 1"
   ]
  },
  {
   "cell_type": "code",
   "execution_count": null,
   "metadata": {},
   "outputs": [],
   "source": [
    "# cell B\n",
    "print(num)"
   ]
  },
  {
   "cell_type": "code",
   "execution_count": null,
   "metadata": {},
   "outputs": [],
   "source": [
    "# cell C\n",
    "num = 2"
   ]
  },
  {
   "cell_type": "markdown",
   "metadata": {},
   "source": [
    "Each time you run a code cell, the source code that was executed is stored in a python list named `In`. This array provides a history of the code that has been executed."
   ]
  },
  {
   "cell_type": "code",
   "execution_count": null,
   "metadata": {},
   "outputs": [],
   "source": [
    "print(\"Source code for second cell that was executed: \", In[1])"
   ]
  },
  {
   "cell_type": "markdown",
   "metadata": {},
   "source": [
    "If the last line of your code cell is an expression, it's value is stored in a dictionary named `Out`. For example, try running the following two code cells in order:"
   ]
  },
  {
   "cell_type": "code",
   "execution_count": null,
   "metadata": {},
   "outputs": [],
   "source": [
    "three_plus_num = 3 + num\n",
    "three_plus_num + 1"
   ]
  },
  {
   "cell_type": "code",
   "execution_count": null,
   "metadata": {},
   "outputs": [],
   "source": [
    "print(Out[len(In) - 2])"
   ]
  },
  {
   "cell_type": "markdown",
   "metadata": {},
   "source": [
    "# Markdown Cells"
   ]
  },
  {
   "cell_type": "markdown",
   "metadata": {},
   "source": [
    "Jupyter's markdown cells allow us to create cells of formatted text, images, and typeset equations."
   ]
  },
  {
   "cell_type": "markdown",
   "metadata": {},
   "source": [
    "1. Highlight this cell and make sure you are in command mode.\n",
    "1. Hit `y` to switch it to a cell code.\n",
    "1. Hit `m` to toggle it back to a markdown cell."
   ]
  },
  {
   "cell_type": "markdown",
   "metadata": {},
   "source": [
    "In addition to all your favorite markdown syntax, you can use HTML, LaTex, and a variety of other tools to create beautifully formatted notebooks."
   ]
  },
  {
   "cell_type": "markdown",
   "metadata": {},
   "source": [
    "Feel free to use this notebook to explore jupyter notebook's functionality. When you're ready, move on to the coding challenges in `knn.ipynb`."
   ]
  },
  {
   "cell_type": "markdown",
   "metadata": {},
   "source": [
    "# Jupyter Resources"
   ]
  },
  {
   "cell_type": "markdown",
   "metadata": {},
   "source": [
    "For more information on how jupyter works, how to use notebooks, and how to write markdown, see the links below:"
   ]
  },
  {
   "cell_type": "markdown",
   "metadata": {},
   "source": [
    "* [Jupyter keyboard shortcuts](https://www.cheatography.com/weidadeyue/cheat-sheets/jupyter-notebook/)\n",
    "* [Relationship between notebooks, Jupyter, and the IPython kernel](https://jupyter.readthedocs.io/en/latest/architecture/how_jupyter_ipython_work.html)\n",
    "* [Writing markdown](http://jupyter-notebook.readthedocs.io/en/stable/examples/Notebook/Working%20With%20Markdown%20Cells.html)\n",
    "* [Extending jupyter notebook features with nbextensions](http://jupyter-contrib-nbextensions.readthedocs.io/en/latest/install.html)\n",
    "* [JupyterHub for public notebook servers]()"
   ]
  }
 ],
 "metadata": {
  "kernelspec": {
   "display_name": "Python 3",
   "language": "python",
   "name": "python3"
  },
  "language_info": {
   "codemirror_mode": {
    "name": "ipython",
    "version": 3
   },
   "file_extension": ".py",
   "mimetype": "text/x-python",
   "name": "python",
   "nbconvert_exporter": "python",
   "pygments_lexer": "ipython3",
   "version": "3.6.4"
  },
  "toc": {
   "nav_menu": {},
   "number_sections": true,
   "sideBar": true,
   "skip_h1_title": false,
   "title_cell": "Table of Contents",
   "title_sidebar": "Contents",
   "toc_cell": true,
   "toc_position": {
    "height": "calc(100% - 180px)",
    "left": "10px",
    "top": "150px",
    "width": "165px"
   },
   "toc_section_display": true,
   "toc_window_display": true
  }
 },
 "nbformat": 4,
 "nbformat_minor": 2
}
